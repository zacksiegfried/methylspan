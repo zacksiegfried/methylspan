{
 "cells": [
  {
   "cell_type": "code",
   "execution_count": 2,
   "metadata": {},
   "outputs": [],
   "source": [
    "import requests\n",
    "import json\n",
    "import re\n",
    "import os\n"
   ]
  },
  {
   "cell_type": "code",
   "execution_count": 3,
   "metadata": {},
   "outputs": [],
   "source": [
    "# get file IDs and matching metadata in \n",
    "\n",
    "files_endpt = \"https://api.gdc.cancer.gov/files\"\n",
    "\n",
    "# filtering for cases that are primary site pancreas, and have methylation data\n",
    "filters = {\n",
    "    \"op\": \"and\",\n",
    "    \"content\":[\n",
    "        {\n",
    "        \"op\": \"in\",\n",
    "        \"content\":{\n",
    "            \"field\": \"cases.primary_site\",\n",
    "            \"value\": [\"pancreas\"]\n",
    "            }\n",
    "        },\n",
    "        {\n",
    "        \"op\": \"in\",\n",
    "        \"content\":{\n",
    "            \"field\": \"files.data_category\",\n",
    "            \"value\": [\"dna methylation\"]\n",
    "            }\n",
    "        },\n",
    "        {\n",
    "        \"op\": \"in\",\n",
    "        \"content\":{\n",
    "            \"field\": \"files.data_type\",\n",
    "\n",
    "            ### \"Masked Intensities\" selects for .IDAT raw methylation files\n",
    "            ### \"Methylation Beta Values\" selects for .txt beta arrays files\n",
    "            \"value\": [\"Methylation Beta Value\"]\n",
    "            }\n",
    "        }\n",
    "    ]\n",
    "}\n",
    "\n",
    "### could add more data catagories here (bmi, sex... ) https://docs.gdc.cancer.gov/API/Users_Guide/Appendix_A_Available_Fields/#file-fields\n",
    "fields = [\n",
    "    \"file_id\",\n",
    "    \"file_name\",\n",
    "    \"platform\",\n",
    "\n",
    "    \"cases.case_id\",\n",
    "\n",
    "    \"cases.diagnoses.created_datetime\",\n",
    "\n",
    "    \"cases.demographic.vital_status\",\n",
    "    \"cases.demographic.days_to_birth\",\n",
    "    \"cases.demographic.days_to_death\",\n",
    "\n",
    "    \"cases.samples.sample_id\",\n",
    "    \"cases.samples.created_datetime\"\n",
    "    ]\n",
    "fields = \",\".join(fields)\n",
    "\n",
    "params = {\n",
    "    \"filters\": json.dumps(filters),\n",
    "    \"fields\": fields,\n",
    "    \"format\": \"JSON\",\n",
    "    \"size\": \"1000\"\n",
    "    }\n",
    "\n",
    "response = requests.get(files_endpt, params = params)\n"
   ]
  },
  {
   "cell_type": "code",
   "execution_count": 18,
   "metadata": {},
   "outputs": [],
   "source": [
    "data_endpt = \"https://api.gdc.cancer.gov/data\"\n",
    "\n",
    "ids = [\n",
    "    \"b658d635-258a-4f6f-8377-767a43771fe4\",\n",
    "    \"3968213d-b293-4b3d-8033-5b5a0ca07b6c\"\n",
    "    ]\n",
    "\n",
    "params = {\"ids\": ids}\n",
    "\n",
    "response = requests.post(data_endpt,\n",
    "                        data = json.dumps(params),\n",
    "                        headers={\n",
    "                            \"Content-Type\": \"application/json\"\n",
    "                            })\n",
    "\n",
    "response_head_cd = response.headers[\"Content-Disposition\"]\n",
    "\n",
    "file_name = re.findall(\"filename=(.+)\", response_head_cd)[0]\n",
    "\n",
    "save_name = \"/Users/zacksiegfried/Documents/methylspan/beta_arrays/\" + file_name\n",
    "with open(save_name, \"wb\") as output_file:\n",
    "    output_file.write(response.content)"
   ]
  }
 ],
 "metadata": {
  "kernelspec": {
   "display_name": "Python 3",
   "language": "python",
   "name": "python3"
  },
  "language_info": {
   "codemirror_mode": {
    "name": "ipython",
    "version": 3
   },
   "file_extension": ".py",
   "mimetype": "text/x-python",
   "name": "python",
   "nbconvert_exporter": "python",
   "pygments_lexer": "ipython3",
   "version": "3.9.16"
  },
  "orig_nbformat": 4,
  "vscode": {
   "interpreter": {
    "hash": "aee8b7b246df8f9039afb4144a1f6fd8d2ca17a180786b69acc140d282b71a49"
   }
  }
 },
 "nbformat": 4,
 "nbformat_minor": 2
}
