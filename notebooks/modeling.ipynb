{
 "cells": [
  {
   "cell_type": "code",
   "execution_count": 8,
   "metadata": {},
   "outputs": [
    {
     "name": "stdout",
     "output_type": "stream",
     "text": [
      "Number of methylation files for all cases for primary site pancreas: 430\n",
      "Final number of cases in sample dataset : 90\n"
     ]
    }
   ],
   "source": [
    "\"\"\"General methyl data import using MSM package. General dictonary data, beta value methylation array df, survival metadata df\"\"\"\n",
    "\n",
    "import sys\n",
    "sys.path.insert(0, '/Users/zacksiegfried/Documents/methylspan')\n",
    "import MSM\n",
    "\n",
    "all_files = MSM.pullMethylMetaData('pancreas')\n",
    "\n",
    "# not gaureteed to return same number of cases, (remove file_id from sample data if missing from meta data)\n",
    "# missing values dropped anyways in next steps\n",
    "sample_data = MSM.methylDataFormat(all_files, 100)\n",
    "meta_data = MSM.metaDataFormat(sample_data, all_files)\n",
    "\n"
   ]
  },
  {
   "cell_type": "code",
   "execution_count": 9,
   "metadata": {},
   "outputs": [
    {
     "name": "stdout",
     "output_type": "stream",
     "text": [
      "(84, 16)\n",
      "                                      days_to_death  vital_status           0  \\\n",
      "id                                                                              \n",
      "cc335f46-8c10-49f8-a056-9c38a9a4b45d         1305.0             0  -58.174093   \n",
      "290b29b7-65aa-4132-88aa-99881d8275aa          980.0             0 -119.038828   \n",
      "4e7c3fa8-3a45-4e41-850d-160b593db2c2          902.0             0 -183.947086   \n",
      "70c62c07-ca7e-44c6-8c1e-28b9bfba517e          902.0             0  -98.115197   \n",
      "132c5f3c-d91c-41ec-84e4-2cf013b91389          860.0             0 -172.665588   \n",
      "...                                             ...           ...         ...   \n",
      "96fcf55e-af6f-4dcc-94b4-8709a19a8a5f           12.0             0  135.763640   \n",
      "60613cce-978a-4f0f-8402-573dc6415296         1502.0             0  -69.907017   \n",
      "a3871b6b-b5e8-4346-94d0-b0b4067fd45f          532.0             0  149.581465   \n",
      "1917b8b2-cdbf-40f9-9d33-67a3f2442d72         2036.0             0  126.316215   \n",
      "f8186e89-50ea-4807-94d2-182f5e88c92c          706.0             1  -63.218196   \n",
      "\n",
      "                                               1           2           3  \\\n",
      "id                                                                         \n",
      "cc335f46-8c10-49f8-a056-9c38a9a4b45d -112.640915   29.118971  129.153969   \n",
      "290b29b7-65aa-4132-88aa-99881d8275aa   61.662294   76.916756  147.735926   \n",
      "4e7c3fa8-3a45-4e41-850d-160b593db2c2  -42.040040  151.393817 -119.483978   \n",
      "70c62c07-ca7e-44c6-8c1e-28b9bfba517e    5.893704  158.032288   56.404454   \n",
      "132c5f3c-d91c-41ec-84e4-2cf013b91389  -82.228444   52.829796   74.869957   \n",
      "...                                          ...         ...         ...   \n",
      "96fcf55e-af6f-4dcc-94b4-8709a19a8a5f   61.340065  -63.547135 -104.436067   \n",
      "60613cce-978a-4f0f-8402-573dc6415296    9.471707 -233.226768  141.893864   \n",
      "a3871b6b-b5e8-4346-94d0-b0b4067fd45f  -81.553549 -167.774548  -74.610902   \n",
      "1917b8b2-cdbf-40f9-9d33-67a3f2442d72   88.432560  -86.666574 -105.319620   \n",
      "f8186e89-50ea-4807-94d2-182f5e88c92c   45.999764 -186.940866   64.554155   \n",
      "\n",
      "                                               4           5           6  \\\n",
      "id                                                                         \n",
      "cc335f46-8c10-49f8-a056-9c38a9a4b45d   14.367992  119.854957  -14.132140   \n",
      "290b29b7-65aa-4132-88aa-99881d8275aa    9.744889  -77.210846   90.257147   \n",
      "4e7c3fa8-3a45-4e41-850d-160b593db2c2   72.990680  -84.957813  124.465745   \n",
      "70c62c07-ca7e-44c6-8c1e-28b9bfba517e  -91.920013  -31.844467  112.841282   \n",
      "132c5f3c-d91c-41ec-84e4-2cf013b91389   58.713893  -41.436150  109.819855   \n",
      "...                                          ...         ...         ...   \n",
      "96fcf55e-af6f-4dcc-94b4-8709a19a8a5f -147.982568  -11.808619  -38.438331   \n",
      "60613cce-978a-4f0f-8402-573dc6415296 -103.444064   56.602679  -57.002587   \n",
      "a3871b6b-b5e8-4346-94d0-b0b4067fd45f  -76.923293   75.002427  -77.931870   \n",
      "1917b8b2-cdbf-40f9-9d33-67a3f2442d72  173.784394 -199.805302 -136.871755   \n",
      "f8186e89-50ea-4807-94d2-182f5e88c92c  -77.826298   72.557002  -92.350998   \n",
      "\n",
      "                                               7           8          9  \\\n",
      "id                                                                        \n",
      "cc335f46-8c10-49f8-a056-9c38a9a4b45d   19.652171    6.039046  58.684273   \n",
      "290b29b7-65aa-4132-88aa-99881d8275aa   50.603776 -180.909152 -37.859363   \n",
      "4e7c3fa8-3a45-4e41-850d-160b593db2c2  -13.676125  -28.499409  -5.134540   \n",
      "70c62c07-ca7e-44c6-8c1e-28b9bfba517e  -22.780486  -54.710126 -46.578438   \n",
      "132c5f3c-d91c-41ec-84e4-2cf013b91389   -8.709602   26.525181 -40.868500   \n",
      "...                                          ...         ...        ...   \n",
      "96fcf55e-af6f-4dcc-94b4-8709a19a8a5f  -63.157285  -27.613902   8.033459   \n",
      "60613cce-978a-4f0f-8402-573dc6415296   64.696493 -142.507332 -78.291554   \n",
      "a3871b6b-b5e8-4346-94d0-b0b4067fd45f   -3.207625  -16.765368 -33.423876   \n",
      "1917b8b2-cdbf-40f9-9d33-67a3f2442d72 -148.102404  161.869773   9.540812   \n",
      "f8186e89-50ea-4807-94d2-182f5e88c92c   85.812477  -73.660143   0.695588   \n",
      "\n",
      "                                             10         11         12  \\\n",
      "id                                                                      \n",
      "cc335f46-8c10-49f8-a056-9c38a9a4b45d  15.605232  20.603380  20.766919   \n",
      "290b29b7-65aa-4132-88aa-99881d8275aa -62.753578  87.627817   4.234857   \n",
      "4e7c3fa8-3a45-4e41-850d-160b593db2c2  -2.525694 -10.038342 -16.774232   \n",
      "70c62c07-ca7e-44c6-8c1e-28b9bfba517e -33.959258  -0.901199 -18.859495   \n",
      "132c5f3c-d91c-41ec-84e4-2cf013b91389  -8.002647 -52.326195 -29.441322   \n",
      "...                                         ...        ...        ...   \n",
      "96fcf55e-af6f-4dcc-94b4-8709a19a8a5f -16.490622  17.328296 -16.347232   \n",
      "60613cce-978a-4f0f-8402-573dc6415296 -30.507070  24.605211  -4.027522   \n",
      "a3871b6b-b5e8-4346-94d0-b0b4067fd45f  48.731980 -75.529186 -96.926557   \n",
      "1917b8b2-cdbf-40f9-9d33-67a3f2442d72 -23.856537  61.797496 -45.422554   \n",
      "f8186e89-50ea-4807-94d2-182f5e88c92c  18.993155  19.510678  21.589793   \n",
      "\n",
      "                                              13  \n",
      "id                                                \n",
      "cc335f46-8c10-49f8-a056-9c38a9a4b45d   33.344558  \n",
      "290b29b7-65aa-4132-88aa-99881d8275aa   -9.211770  \n",
      "4e7c3fa8-3a45-4e41-850d-160b593db2c2  124.623088  \n",
      "70c62c07-ca7e-44c6-8c1e-28b9bfba517e   21.497904  \n",
      "132c5f3c-d91c-41ec-84e4-2cf013b91389    7.827873  \n",
      "...                                          ...  \n",
      "96fcf55e-af6f-4dcc-94b4-8709a19a8a5f   20.395950  \n",
      "60613cce-978a-4f0f-8402-573dc6415296  -40.343049  \n",
      "a3871b6b-b5e8-4346-94d0-b0b4067fd45f  114.927897  \n",
      "1917b8b2-cdbf-40f9-9d33-67a3f2442d72 -116.639766  \n",
      "f8186e89-50ea-4807-94d2-182f5e88c92c  -72.406621  \n",
      "\n",
      "[84 rows x 16 columns]\n"
     ]
    }
   ],
   "source": [
    "### FORMATTING FOR SURVIVAL + PCA\n",
    "\n",
    "import pandas as pd\n",
    "from sklearn.preprocessing import StandardScaler\n",
    "from sklearn.decomposition import PCA\n",
    "\n",
    "# drops all CpG sites with at least 1 missing value\n",
    "sample_data.index.name = 'id'\n",
    "sample_data.dropna(axis=1, inplace=True)\n",
    "\n",
    "# standardizes dataframe\n",
    "scaled_df = sample_data.copy()\n",
    "scaled_df = pd.DataFrame(StandardScaler().fit_transform(scaled_df), index=scaled_df.index, columns=scaled_df.columns)\n",
    "\n",
    "# converts CpG sites to PCA components\n",
    "pca = PCA(n_components=14)      # setting number of PCAs to 14\n",
    "pca.fit(scaled_df)\n",
    "\n",
    "output = pca.transform(scaled_df)\n",
    "x = pd.DataFrame(output, index=scaled_df.index)\n",
    "\n",
    "meta_data.index.name = 'id'\n",
    "\n",
    "# merges dfs and formats \n",
    "full_data = pd.merge(meta_data, x, on = 'id')\n",
    "full_data.replace(['Dead', 'Alive'],[0, 1], inplace=True)\n",
    "full_data = full_data[full_data['days_to_death'].notna()]\n",
    "\n",
    "print(full_data.shape)"
   ]
  },
  {
   "cell_type": "code",
   "execution_count": 10,
   "metadata": {},
   "outputs": [
    {
     "name": "stdout",
     "output_type": "stream",
     "text": [
      "           95% lower-bound  95% upper-bound\n",
      "covariate                                  \n",
      "0                -0.007215         0.007155\n",
      "1                -0.005838         0.003801\n",
      "2                -0.004677         0.009295\n",
      "3                -0.008030         0.005117\n",
      "4                -0.006275         0.004274\n",
      "5                -0.005814         0.012265\n",
      "6                -0.014173         0.004003\n",
      "7                -0.007342         0.015431\n",
      "8                -0.009551         0.006126\n",
      "9                -0.026396         0.008842\n",
      "10               -0.011478         0.009689\n",
      "11               -0.014758         0.015510\n",
      "12               -0.003803         0.053177\n",
      "13               -0.014262         0.002988\n"
     ]
    },
    {
     "name": "stderr",
     "output_type": "stream",
     "text": [
      "/Users/zacksiegfried/opt/anaconda3/lib/python3.9/site-packages/lifelines/fitters/coxph_fitter.py:1266: FutureWarning: In a future version, the Index constructor will not infer numeric dtypes when passed object-dtype sequences (matching Series behavior)\n",
      "  self.params_ = pd.Series(params_, index=pd.Index(X.columns, name=\"covariate\"), name=\"coef\")\n"
     ]
    }
   ],
   "source": [
    "### SURVIVAL ANALYSIS EXECUTION & TESTING\n",
    "\n",
    "from lifelines import CoxPHFitter\n",
    "\n",
    "cph = CoxPHFitter()\n",
    "cph.fit(full_data, duration_col='days_to_death', event_col='vital_status')\n",
    "\n",
    "print(cph.confidence_intervals_)"
   ]
  }
 ],
 "metadata": {
  "kernelspec": {
   "display_name": "base",
   "language": "python",
   "name": "python3"
  },
  "language_info": {
   "codemirror_mode": {
    "name": "ipython",
    "version": 3
   },
   "file_extension": ".py",
   "mimetype": "text/x-python",
   "name": "python",
   "nbconvert_exporter": "python",
   "pygments_lexer": "ipython3",
   "version": "3.9.16"
  },
  "orig_nbformat": 4,
  "vscode": {
   "interpreter": {
    "hash": "dbae6a19bd5c8e1e3ce4f7e467baab29f4ceabf32655e7433169e00331e9fde7"
   }
  }
 },
 "nbformat": 4,
 "nbformat_minor": 2
}
