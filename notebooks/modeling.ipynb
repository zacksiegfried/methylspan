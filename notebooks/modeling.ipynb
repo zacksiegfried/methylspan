{
 "cells": [
  {
   "cell_type": "code",
   "execution_count": 4,
   "metadata": {},
   "outputs": [
    {
     "name": "stdout",
     "output_type": "stream",
     "text": [
      "Number of methylation files for all cases for primary site pancreas: 430\n",
      "Final number of cases in sample dataset : 29\n"
     ]
    }
   ],
   "source": [
    "\"\"\"General methyl data import using MSM package. General dictonary data, beta value methylation array df, survival metadata df\"\"\"\n",
    "\n",
    "import sys\n",
    "sys.path.insert(0, '/Users/zacksiegfried/Documents/methylspan')\n",
    "import MSM\n",
    "\n",
    "all_files = MSM.pullMethylMetaData('pancreas')\n",
    "\n",
    "# not gaureteed to return same number of cases, (remove file_id from sample data if missing from meta data)\n",
    "# missing values dropped anyways in next steps\n",
    "sample_data = MSM.methylDataFormat(all_files, 30)\n",
    "meta_data = MSM.metaDataFormat(sample_data, all_files)\n",
    "\n"
   ]
  },
  {
   "cell_type": "code",
   "execution_count": 5,
   "metadata": {},
   "outputs": [
    {
     "name": "stdout",
     "output_type": "stream",
     "text": [
      "(27, 16)\n"
     ]
    }
   ],
   "source": [
    "### FORMATTING FOR SURVIVAL + PCA\n",
    "\n",
    "import pandas as pd\n",
    "from sklearn.preprocessing import StandardScaler\n",
    "from sklearn.decomposition import PCA\n",
    "\n",
    "# drops all CpG sites with at least 1 missing value\n",
    "sample_data.index.name = 'id'\n",
    "sample_data.dropna(axis=1, inplace=True)\n",
    "\n",
    "# standardizes dataframe\n",
    "scaled_df = sample_data.copy()\n",
    "scaled_df = pd.DataFrame(StandardScaler().fit_transform(scaled_df), index=scaled_df.index, columns=scaled_df.columns)\n",
    "\n",
    "# converts CpG sites to PCA components\n",
    "pca = PCA(n_components=20)\n",
    "pca.fit(scaled_df)\n",
    "\n",
    "output = pca.transform(scaled_df)\n",
    "x = pd.DataFrame(output, index=scaled_df.index)\n",
    "x.drop(columns=[14,15,16,17,18,19], inplace=True) # selecting first 14 PCAs\n",
    "\n",
    "meta_data.index.name = 'id'\n",
    "\n",
    "# merges dfs and formats \n",
    "full_data = pd.merge(meta_data, x, on = 'id')\n",
    "full_data.replace(['Dead', 'Alive'],[0, 1], inplace=True)\n",
    "full_data = full_data[full_data['days_to_death'].notna()]\n",
    "\n",
    "print(full_data.shape)"
   ]
  },
  {
   "cell_type": "code",
   "execution_count": 6,
   "metadata": {},
   "outputs": [
    {
     "name": "stdout",
     "output_type": "stream",
     "text": [
      "0.8983050847457628\n"
     ]
    },
    {
     "name": "stderr",
     "output_type": "stream",
     "text": [
      "/Users/zacksiegfried/opt/anaconda3/lib/python3.9/site-packages/lifelines/fitters/coxph_fitter.py:1611: ConvergenceWarning: Newton-Rhaphson failed to converge sufficiently. Please see the following tips in the lifelines documentation: https://lifelines.readthedocs.io/en/latest/Examples.html#problems-with-convergence-in-the-cox-proportional-hazard-model\n",
      "  warnings.warn(\n",
      "/Users/zacksiegfried/opt/anaconda3/lib/python3.9/site-packages/lifelines/fitters/coxph_fitter.py:1266: FutureWarning: In a future version, the Index constructor will not infer numeric dtypes when passed object-dtype sequences (matching Series behavior)\n",
      "  self.params_ = pd.Series(params_, index=pd.Index(X.columns, name=\"covariate\"), name=\"coef\")\n"
     ]
    }
   ],
   "source": [
    "### SURVIVAL ANALYSIS EXECUTION & TESTING\n",
    "\n",
    "from lifelines import CoxPHFitter\n",
    "\n",
    "cph = CoxPHFitter()\n",
    "cph.fit(full_data, duration_col='days_to_death', event_col='vital_status')\n",
    "\n",
    "print(cph.concordance_index_)"
   ]
  }
 ],
 "metadata": {
  "kernelspec": {
   "display_name": "base",
   "language": "python",
   "name": "python3"
  },
  "language_info": {
   "codemirror_mode": {
    "name": "ipython",
    "version": 3
   },
   "file_extension": ".py",
   "mimetype": "text/x-python",
   "name": "python",
   "nbconvert_exporter": "python",
   "pygments_lexer": "ipython3",
   "version": "3.9.16"
  },
  "orig_nbformat": 4,
  "vscode": {
   "interpreter": {
    "hash": "dbae6a19bd5c8e1e3ce4f7e467baab29f4ceabf32655e7433169e00331e9fde7"
   }
  }
 },
 "nbformat": 4,
 "nbformat_minor": 2
}
