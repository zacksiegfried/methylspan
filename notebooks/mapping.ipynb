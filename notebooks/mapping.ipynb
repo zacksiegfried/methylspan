{
 "cells": [
  {
   "cell_type": "code",
   "execution_count": 2,
   "metadata": {},
   "outputs": [
    {
     "name": "stdout",
     "output_type": "stream",
     "text": [
      "Number of methylation files for all cases for primary site pancreas: 471\n",
      "Final number of cases in methylation dataset : 50\n",
      "Final number of cases in metadata dataset : 50\n"
     ]
    }
   ],
   "source": [
    "import sys\n",
    "sys.path.insert(0, '/Users/zacksiegfried/Documents/methylspan')\n",
    "import MSM\n",
    "import MethylMapping\n",
    "\n",
    "\n",
    "all_files = MSM.pullMethylMetaData('pancreas')\n",
    "\n",
    "# selecting only methylation assay 450 files\n",
    "all_files2 = []\n",
    "for i in all_files:\n",
    "    if i['platform'] == 'Illumina Human Methylation 450':\n",
    "        all_files2.append(i)\n",
    "\n",
    "# not gaureteed to return same number of cases, (remove file_id from sample data if missing from meta data)\n",
    "# missing values dropped anyways in next steps\n",
    "sample_data = MSM.methylDataFormat(all_files2, 50)\n",
    "meta_data = MSM.metaDataFormat(sample_data, all_files2)\n",
    "\n",
    "map_test = MethylMapping.methylMap450(sample_data)"
   ]
  },
  {
   "cell_type": "code",
   "execution_count": 3,
   "metadata": {},
   "outputs": [],
   "source": [
    "#map_test.to_csv('data/map_test.csv')\n",
    "\n",
    "from collections import Counter\n",
    "gene_dict = Counter(map_test.columns)\n",
    "#print(gene_dict)"
   ]
  },
  {
   "cell_type": "code",
   "execution_count": 39,
   "metadata": {},
   "outputs": [
    {
     "name": "stdout",
     "output_type": "stream",
     "text": [
      "                                          MGMT\n",
      "id                                            \n",
      "7ac9d292-eac7-409f-b0e8-9c1a960d7401  0.815752\n",
      "37a63eb3-049c-47e3-84ff-7de36074e5cd  0.813167\n",
      "976cd416-5ce3-4ceb-a6a8-00d565b7cf48  0.822057\n",
      "1e61d269-6169-4ed5-b0dc-d3dbf5dadc37  0.812727\n",
      "b102cef3-f320-43bd-9bcd-052ab9bc105c  0.817987\n"
     ]
    }
   ],
   "source": [
    "### AVERAGE GENE REGION METHOD\n",
    "import MethylMapping\n",
    "\n",
    "sample_average_data = MethylMapping.averageGene(map_test, 'MGMT')"
   ]
  },
  {
   "cell_type": "code",
   "execution_count": 17,
   "metadata": {},
   "outputs": [
    {
     "name": "stdout",
     "output_type": "stream",
     "text": [
      "                                        MGMT_1    MGMT_2    MGMT_3    MGMT_4  \\\n",
      "7ac9d292-eac7-409f-b0e8-9c1a960d7401  0.013851  0.017323  0.960409  0.947207   \n",
      "37a63eb3-049c-47e3-84ff-7de36074e5cd  0.013455  0.017649  0.960832  0.942600   \n",
      "976cd416-5ce3-4ceb-a6a8-00d565b7cf48  0.012386  0.014826  0.970702  0.972389   \n",
      "1e61d269-6169-4ed5-b0dc-d3dbf5dadc37  0.011619  0.016112  0.956667  0.962331   \n",
      "b102cef3-f320-43bd-9bcd-052ab9bc105c  0.024979  0.102605  0.962408  0.957829   \n",
      "\n",
      "                                        MGMT_5    MGMT_6    MGMT_7    MGMT_8  \\\n",
      "7ac9d292-eac7-409f-b0e8-9c1a960d7401  0.891783  0.028081  0.017177  0.026706   \n",
      "37a63eb3-049c-47e3-84ff-7de36074e5cd  0.887554  0.293068  0.086225  0.030847   \n",
      "976cd416-5ce3-4ceb-a6a8-00d565b7cf48  0.942547  0.152831  0.121371  0.074536   \n",
      "1e61d269-6169-4ed5-b0dc-d3dbf5dadc37  0.910228  0.033816  0.019733  0.027769   \n",
      "b102cef3-f320-43bd-9bcd-052ab9bc105c  0.897508  0.229302  0.175651  0.136434   \n",
      "\n",
      "                                        MGMT_9   MGMT_10  ...  MGMT_140  \\\n",
      "7ac9d292-eac7-409f-b0e8-9c1a960d7401  0.052193  0.083210  ...  0.728073   \n",
      "37a63eb3-049c-47e3-84ff-7de36074e5cd  0.018431  0.048991  ...  0.769816   \n",
      "976cd416-5ce3-4ceb-a6a8-00d565b7cf48  0.028656  0.025568  ...  0.682663   \n",
      "1e61d269-6169-4ed5-b0dc-d3dbf5dadc37  0.021002  0.047847  ...  0.783650   \n",
      "b102cef3-f320-43bd-9bcd-052ab9bc105c  0.134012  0.035504  ...  0.772463   \n",
      "\n",
      "                                      MGMT_141  MGMT_142  MGMT_143  MGMT_144  \\\n",
      "7ac9d292-eac7-409f-b0e8-9c1a960d7401  0.937710  0.746641  0.934925  0.936414   \n",
      "37a63eb3-049c-47e3-84ff-7de36074e5cd  0.946942  0.638305  0.923499  0.925596   \n",
      "976cd416-5ce3-4ceb-a6a8-00d565b7cf48  0.899951  0.744515  0.916686  0.866072   \n",
      "1e61d269-6169-4ed5-b0dc-d3dbf5dadc37  0.918478  0.738743  0.929754  0.907617   \n",
      "b102cef3-f320-43bd-9bcd-052ab9bc105c  0.932717  0.698140  0.934755  0.903716   \n",
      "\n",
      "                                      MGMT_145  MGMT_146  MGMT_147  MGMT_148  \\\n",
      "7ac9d292-eac7-409f-b0e8-9c1a960d7401  0.855939  0.897785  0.932748  0.936078   \n",
      "37a63eb3-049c-47e3-84ff-7de36074e5cd  0.779188  0.857411  0.898999  0.868896   \n",
      "976cd416-5ce3-4ceb-a6a8-00d565b7cf48  0.827431  0.857726  0.901369  0.924601   \n",
      "1e61d269-6169-4ed5-b0dc-d3dbf5dadc37  0.806014  0.874533  0.909004  0.879743   \n",
      "b102cef3-f320-43bd-9bcd-052ab9bc105c  0.808301  0.899860  0.952846  0.924504   \n",
      "\n",
      "                                      MGMT_149  \n",
      "7ac9d292-eac7-409f-b0e8-9c1a960d7401  0.928074  \n",
      "37a63eb3-049c-47e3-84ff-7de36074e5cd  0.955261  \n",
      "976cd416-5ce3-4ceb-a6a8-00d565b7cf48  0.940989  \n",
      "1e61d269-6169-4ed5-b0dc-d3dbf5dadc37  0.938548  \n",
      "b102cef3-f320-43bd-9bcd-052ab9bc105c  0.949498  \n",
      "\n",
      "[5 rows x 149 columns]\n"
     ]
    }
   ],
   "source": [
    "### FULL GENE REGION METHOD\n",
    "import MethylMapping\n",
    "\n",
    "sample_full_data = MethylMapping.fullGene(map_test, 'MGMT')"
   ]
  },
  {
   "cell_type": "code",
   "execution_count": 40,
   "metadata": {},
   "outputs": [
    {
     "name": "stdout",
     "output_type": "stream",
     "text": [
      "Final number of cases used: 50\n"
     ]
    }
   ],
   "source": [
    "### FORMATTING FOR SURVIVAL\n",
    "\n",
    "import pandas as pd\n",
    "from lifelines import CoxPHFitter\n",
    "from lifelines.utils import k_fold_cross_validation\n",
    "\n",
    "def mappingSurvivalFormat(sample_data, meta_data):\n",
    "    \n",
    "    meta_data.index.name = 'id'\n",
    "    sample_data.index.name = 'id'\n",
    "    sample_data = sample_data.dropna(axis=1)\n",
    "\n",
    "    # merges dfs and formats \n",
    "    full_data = pd.merge(meta_data, sample_data, on = 'id')\n",
    "    full_data.replace(['Dead', 'Alive'],[1, 0], inplace=True)\n",
    "    full_data = full_data[full_data['days_to_death'].notna()]\n",
    "\n",
    "    print(\"Final number of cases used: \" + str(full_data.shape[0]))\n",
    "\n",
    "    return(full_data)\n",
    "\n",
    "\n",
    "full_data = mappingSurvivalFormat(sample_average_data, meta_data)"
   ]
  },
  {
   "cell_type": "code",
   "execution_count": 43,
   "metadata": {},
   "outputs": [
    {
     "name": "stdout",
     "output_type": "stream",
     "text": [
      "           95% lower-bound  95% upper-bound\n",
      "covariate                                  \n",
      "MGMT            -62.422887         7.697958\n",
      "[0.6129032258064516, 0.4444444444444444, 0.7096774193548387, 0.6571428571428571, 0.6521739130434783]\n"
     ]
    },
    {
     "name": "stderr",
     "output_type": "stream",
     "text": [
      "/Users/zacksiegfried/opt/anaconda3/lib/python3.9/site-packages/lifelines/utils/__init__.py:1102: ConvergenceWarning: Column(s) ['MGMT'] have very low variance. This may harm convergence. 1) Are you using formula's? Did you mean to add '-1' to the end. 2) Try dropping this redundant column before fitting if convergence fails.\n",
      "\n",
      "  warnings.warn(dedent(warning_text), ConvergenceWarning)\n"
     ]
    }
   ],
   "source": [
    "### SURVIVAL ANALYSIS EXECUTION & TESTING\n",
    "\n",
    "# model trained on complete data set \n",
    "cph = CoxPHFitter()\n",
    "cph.fit(full_data, duration_col='days_to_death', event_col='vital_status')\n",
    "print(cph.confidence_intervals_)\n",
    "\n",
    "# Concordance index (will remodel cph.)\n",
    "scores = k_fold_cross_validation(cph, full_data, 'days_to_death', event_col='vital_status', k=5, scoring_method=\"concordance_index\")\n",
    "print(scores)"
   ]
  }
 ],
 "metadata": {
  "kernelspec": {
   "display_name": "base",
   "language": "python",
   "name": "python3"
  },
  "language_info": {
   "codemirror_mode": {
    "name": "ipython",
    "version": 3
   },
   "file_extension": ".py",
   "mimetype": "text/x-python",
   "name": "python",
   "nbconvert_exporter": "python",
   "pygments_lexer": "ipython3",
   "version": "3.9.16"
  },
  "orig_nbformat": 4
 },
 "nbformat": 4,
 "nbformat_minor": 2
}
