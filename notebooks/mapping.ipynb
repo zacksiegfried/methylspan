{
 "cells": [
  {
   "cell_type": "code",
   "execution_count": null,
   "metadata": {},
   "outputs": [],
   "source": [
    "import sys\n",
    "sys.path.insert(0, '/Users/zacksiegfried/Documents/methylspan')\n",
    "import MethylFormatting\n",
    "import MethylMapping\n",
    "\n",
    "\n",
    "all_files = MethylFormatting.pullMethylMetaData('pancreas')\n",
    "\n",
    "# selecting only methylation assay 450 files\n",
    "all_files2 = []\n",
    "for i in all_files:\n",
    "    if i['platform'] == 'Illumina Human Methylation 450':\n",
    "        all_files2.append(i)\n",
    "\n",
    "# not gaureteed to return same number of cases, (remove file_id from sample data if missing from meta data)\n",
    "# missing values dropped anyways in next steps\n",
    "sample_data = MethylFormatting.methylDataFormat(all_files2, 50)\n",
    "meta_data = MethylFormatting.metaDataFormat(sample_data, all_files2)\n",
    "\n",
    "map_test = MethylMapping.methylMap450(sample_data)"
   ]
  },
  {
   "cell_type": "code",
   "execution_count": 3,
   "metadata": {},
   "outputs": [],
   "source": [
    "#map_test.to_csv('data/map_test.csv')\n",
    "\n",
    "from collections import Counter\n",
    "gene_dict = Counter(map_test.columns)\n",
    "#print(gene_dict)"
   ]
  },
  {
   "cell_type": "code",
   "execution_count": null,
   "metadata": {},
   "outputs": [],
   "source": [
    "### AVERAGE GENE REGION METHOD\n",
    "import MethylMapping\n",
    "\n",
    "sample_average_data = MethylMapping.averageGene(map_test, 'MGMT')"
   ]
  },
  {
   "cell_type": "code",
   "execution_count": null,
   "metadata": {},
   "outputs": [],
   "source": [
    "### FULL GENE REGION METHOD\n",
    "import MethylMapping\n",
    "\n",
    "sample_full_data = MethylMapping.fullGene(map_test, 'MGMT')"
   ]
  },
  {
   "cell_type": "code",
   "execution_count": null,
   "metadata": {},
   "outputs": [],
   "source": [
    "### FORMATTING FOR SURVIVAL\n",
    "\n",
    "import pandas as pd\n",
    "from lifelines import CoxPHFitter\n",
    "from lifelines.utils import k_fold_cross_validation\n",
    "\n",
    "def mappingSurvivalFormat(sample_data, meta_data):\n",
    "    \n",
    "    meta_data.index.name = 'id'\n",
    "    sample_data.index.name = 'id'\n",
    "    sample_data = sample_data.dropna(axis=1)\n",
    "\n",
    "    # merges dfs and formats \n",
    "    full_data = pd.merge(meta_data, sample_data, on = 'id')\n",
    "    full_data.replace(['Dead', 'Alive'],[1, 0], inplace=True)\n",
    "    full_data = full_data[full_data['days_to_death'].notna()]\n",
    "\n",
    "    print(\"Final number of cases used: \" + str(full_data.shape[0]))\n",
    "\n",
    "    return(full_data)\n",
    "\n",
    "\n",
    "full_data = mappingSurvivalFormat(sample_average_data, meta_data)"
   ]
  },
  {
   "cell_type": "code",
   "execution_count": null,
   "metadata": {},
   "outputs": [],
   "source": [
    "### SURVIVAL ANALYSIS EXECUTION & TESTING\n",
    "\n",
    "# model trained on complete data set \n",
    "cph = CoxPHFitter()\n",
    "cph.fit(full_data, duration_col='days_to_death', event_col='vital_status')\n",
    "print(cph.confidence_intervals_)\n",
    "\n",
    "# Concordance index (will remodel cph.)\n",
    "scores = k_fold_cross_validation(cph, full_data, 'days_to_death', event_col='vital_status', k=5, scoring_method=\"concordance_index\")\n",
    "print(scores)"
   ]
  }
 ],
 "metadata": {
  "kernelspec": {
   "display_name": "base",
   "language": "python",
   "name": "python3"
  },
  "language_info": {
   "codemirror_mode": {
    "name": "ipython",
    "version": 3
   },
   "file_extension": ".py",
   "mimetype": "text/x-python",
   "name": "python",
   "nbconvert_exporter": "python",
   "pygments_lexer": "ipython3",
   "version": "3.9.16"
  },
  "orig_nbformat": 4
 },
 "nbformat": 4,
 "nbformat_minor": 2
}
