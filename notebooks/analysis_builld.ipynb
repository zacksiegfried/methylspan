{
 "cells": [
  {
   "cell_type": "code",
   "execution_count": 2,
   "metadata": {},
   "outputs": [
    {
     "data": {
      "application/vnd.jupyter.widget-view+json": {
       "model_id": "f52a3c36d0064908ac75791ebd7317da",
       "version_major": 2,
       "version_minor": 0
      },
      "text/plain": [
       "  0%|          | 0/10 [00:00<?, ?it/s]"
      ]
     },
     "metadata": {},
     "output_type": "display_data"
    },
    {
     "data": {
      "application/vnd.jupyter.widget-view+json": {
       "model_id": "a1a0c34139434da98412e86051c31a23",
       "version_major": 2,
       "version_minor": 0
      },
      "text/plain": [
       "  0%|          | 0/10 [00:00<?, ?it/s]"
      ]
     },
     "metadata": {},
     "output_type": "display_data"
    }
   ],
   "source": [
    "import sys\n",
    "\n",
    "sys.path.insert(0, '/Users/zacksiegfried/Documents/methylspan')\n",
    "\n",
    "from MethylDataFetch import getMethylBetaArrays\n",
    "\n",
    "frame1 = getMethylBetaArrays('pancreas')\n",
    "frame2 = getMethylBetaArrays('thymus')"
   ]
  },
  {
   "cell_type": "code",
   "execution_count": null,
   "metadata": {},
   "outputs": [],
   "source": [
    "frame_list = [frame1, frame2]\n",
    "print(frame_list)"
   ]
  },
  {
   "cell_type": "code",
   "execution_count": null,
   "metadata": {},
   "outputs": [],
   "source": [
    "import pandas as pd\n",
    "import sys\n",
    "import os\n",
    "\n",
    "sys.path.insert(0, '/Users/zacksiegfried/Documents/methylspan')\n",
    "\n",
    "from MethylMapping import methylMap450\n",
    "from MethylMapping import averageGene\n",
    "\n",
    "import statsmodels.formula.api as smf\n",
    "\n",
    "def analysisTesting(list_of_frames): # ANALYSIS FUCNTION TESTING ENV (skips getMethylBetaArrays step)\n",
    "    '''ANOVA'''\n",
    "\n",
    "    script_dir = '/Users/zacksiegfried/Documents/methylspan'\n",
    "\n",
    "    try:\n",
    "        os.mkdir(script_dir + \"/analysis\")\n",
    "    except OSError as e:\n",
    "        pass\n",
    "\n",
    "    # building complete df\n",
    "    df = pd.DataFrame()\n",
    "    for i in list_of_frames:\n",
    "        \n",
    "        ### Uses array 450 for all files (could improve in MethylMapping.py)\n",
    "        mapped_frame = methylMap450(i['data'].transpose())\n",
    "\n",
    "        # gene averaing method\n",
    "        av_mapped_frame = averageGene(mapped_frame)\n",
    "        av_mapped_frame['site'] = i['primary_site']\n",
    "\n",
    "        # setup formatting\n",
    "        av_mapped_frame = av_mapped_frame.transpose()\n",
    "        av_mapped_frame = av_mapped_frame.reset_index()\n",
    "\n",
    "        # merging read file into main df\n",
    "        if df.empty != True:\n",
    "            df = df.merge(av_mapped_frame, on='cpg')\n",
    "        else:\n",
    "            df = av_mapped_frame\n",
    "\n",
    "    df = df.set_index('cpg')\n",
    "    df = df.transpose()\n",
    "\n",
    "    #df.to_csv(str(script_dir + '/analysis/comp.csv'), index_label='gene') # overwrites itself (could fix)\n",
    "\n",
    "    return(df)\n",
    "\n",
    "\n",
    "analysisTesting(frame_list)"
   ]
  },
  {
   "cell_type": "code",
   "execution_count": null,
   "metadata": {},
   "outputs": [],
   "source": [
    "import sys\n",
    "\n",
    "sys.path.insert(0, '/Users/zacksiegfried/Documents/methylspan')\n",
    "from AnalysisFunctions import visualGeneMethylContent\n",
    "\n",
    "df = visualGeneMethylContent(['thymus', 'eye and adnexa', 'pancreas'])\n",
    "print(df)"
   ]
  }
 ],
 "metadata": {
  "kernelspec": {
   "display_name": "base",
   "language": "python",
   "name": "python3"
  },
  "language_info": {
   "codemirror_mode": {
    "name": "ipython",
    "version": 3
   },
   "file_extension": ".py",
   "mimetype": "text/x-python",
   "name": "python",
   "nbconvert_exporter": "python",
   "pygments_lexer": "ipython3",
   "version": "3.9.16"
  },
  "orig_nbformat": 4
 },
 "nbformat": 4,
 "nbformat_minor": 2
}
