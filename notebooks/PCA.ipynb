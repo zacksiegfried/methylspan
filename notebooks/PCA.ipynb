{
 "cells": [
  {
   "cell_type": "code",
   "execution_count": 1,
   "metadata": {},
   "outputs": [
    {
     "name": "stdout",
     "output_type": "stream",
     "text": [
      "Number of methylation files for all cases for primary site pancreas: 471\n",
      "Final number of cases in methylation dataset : 435\n",
      "Final number of cases in metadata dataset : 426\n"
     ]
    }
   ],
   "source": [
    "\"\"\"General methyl data import using MSM package. General dictonary data, beta value methylation array df, survival metadata df\"\"\"\n",
    "\n",
    "import sys\n",
    "sys.path.insert(0, '/Users/zacksiegfried/Documents/methylspan')\n",
    "import MSM\n",
    "\n",
    "all_files = MSM.pullMethylMetaData('pancreas')\n",
    "\n",
    "# not gaureteed to return same number of cases, (remove file_id from sample data if missing from meta data)\n",
    "# missing values dropped anyways in next steps\n",
    "sample_data = MSM.methylDataFormat(all_files, 471)\n",
    "meta_data = MSM.metaDataFormat(sample_data, all_files)"
   ]
  },
  {
   "cell_type": "code",
   "execution_count": 6,
   "metadata": {},
   "outputs": [
    {
     "ename": "ValueError",
     "evalue": "Found input variables with inconsistent numbers of samples: [435, 426]",
     "output_type": "error",
     "traceback": [
      "\u001b[0;31m---------------------------------------------------------------------------\u001b[0m",
      "\u001b[0;31mValueError\u001b[0m                                Traceback (most recent call last)",
      "Cell \u001b[0;32mIn[6], line 45\u001b[0m\n\u001b[1;32m     41\u001b[0m     plt\u001b[39m.\u001b[39mxlabel(\u001b[39m'\u001b[39m\u001b[39mNumber of Principal Components\u001b[39m\u001b[39m'\u001b[39m)\n\u001b[1;32m     42\u001b[0m     plt\u001b[39m.\u001b[39mylabel(\u001b[39m'\u001b[39m\u001b[39mvalue\u001b[39m\u001b[39m'\u001b[39m)\n\u001b[0;32m---> 45\u001b[0m pcaModel(sample_data, meta_data)\n",
      "Cell \u001b[0;32mIn[6], line 32\u001b[0m, in \u001b[0;36mpcaModel\u001b[0;34m(sample_df, meta_df)\u001b[0m\n\u001b[1;32m     29\u001b[0m mse \u001b[39m=\u001b[39m []\n\u001b[1;32m     31\u001b[0m \u001b[39m# Calculate MSE with only the intercept\u001b[39;00m\n\u001b[0;32m---> 32\u001b[0m score \u001b[39m=\u001b[39m \u001b[39m-\u001b[39m\u001b[39m1\u001b[39m \u001b[39m*\u001b[39m model_selection\u001b[39m.\u001b[39;49mcross_val_score(regr, np\u001b[39m.\u001b[39;49mones((\u001b[39mlen\u001b[39;49m(X_reduced),\u001b[39m1\u001b[39;49m)), meta_df, cv\u001b[39m=\u001b[39;49mcv, scoring\u001b[39m=\u001b[39;49m\u001b[39m'\u001b[39;49m\u001b[39mneg_mean_squared_error\u001b[39;49m\u001b[39m'\u001b[39;49m)\u001b[39m.\u001b[39mmean()    \n\u001b[1;32m     33\u001b[0m mse\u001b[39m.\u001b[39mappend(score)\n\u001b[1;32m     35\u001b[0m \u001b[39m# Calculate MSE using cross-validation, adding one component at a time \u001b[39;00m\n",
      "File \u001b[0;32m~/opt/anaconda3/lib/python3.9/site-packages/sklearn/model_selection/_validation.py:509\u001b[0m, in \u001b[0;36mcross_val_score\u001b[0;34m(estimator, X, y, groups, scoring, cv, n_jobs, verbose, fit_params, pre_dispatch, error_score)\u001b[0m\n\u001b[1;32m    506\u001b[0m \u001b[39m# To ensure multimetric format is not supported\u001b[39;00m\n\u001b[1;32m    507\u001b[0m scorer \u001b[39m=\u001b[39m check_scoring(estimator, scoring\u001b[39m=\u001b[39mscoring)\n\u001b[0;32m--> 509\u001b[0m cv_results \u001b[39m=\u001b[39m cross_validate(\n\u001b[1;32m    510\u001b[0m     estimator\u001b[39m=\u001b[39;49mestimator,\n\u001b[1;32m    511\u001b[0m     X\u001b[39m=\u001b[39;49mX,\n\u001b[1;32m    512\u001b[0m     y\u001b[39m=\u001b[39;49my,\n\u001b[1;32m    513\u001b[0m     groups\u001b[39m=\u001b[39;49mgroups,\n\u001b[1;32m    514\u001b[0m     scoring\u001b[39m=\u001b[39;49m{\u001b[39m\"\u001b[39;49m\u001b[39mscore\u001b[39;49m\u001b[39m\"\u001b[39;49m: scorer},\n\u001b[1;32m    515\u001b[0m     cv\u001b[39m=\u001b[39;49mcv,\n\u001b[1;32m    516\u001b[0m     n_jobs\u001b[39m=\u001b[39;49mn_jobs,\n\u001b[1;32m    517\u001b[0m     verbose\u001b[39m=\u001b[39;49mverbose,\n\u001b[1;32m    518\u001b[0m     fit_params\u001b[39m=\u001b[39;49mfit_params,\n\u001b[1;32m    519\u001b[0m     pre_dispatch\u001b[39m=\u001b[39;49mpre_dispatch,\n\u001b[1;32m    520\u001b[0m     error_score\u001b[39m=\u001b[39;49merror_score,\n\u001b[1;32m    521\u001b[0m )\n\u001b[1;32m    522\u001b[0m \u001b[39mreturn\u001b[39;00m cv_results[\u001b[39m\"\u001b[39m\u001b[39mtest_score\u001b[39m\u001b[39m\"\u001b[39m]\n",
      "File \u001b[0;32m~/opt/anaconda3/lib/python3.9/site-packages/sklearn/model_selection/_validation.py:253\u001b[0m, in \u001b[0;36mcross_validate\u001b[0;34m(estimator, X, y, groups, scoring, cv, n_jobs, verbose, fit_params, pre_dispatch, return_train_score, return_estimator, error_score)\u001b[0m\n\u001b[1;32m     48\u001b[0m \u001b[39mdef\u001b[39;00m \u001b[39mcross_validate\u001b[39m(\n\u001b[1;32m     49\u001b[0m     estimator,\n\u001b[1;32m     50\u001b[0m     X,\n\u001b[0;32m   (...)\u001b[0m\n\u001b[1;32m     62\u001b[0m     error_score\u001b[39m=\u001b[39mnp\u001b[39m.\u001b[39mnan,\n\u001b[1;32m     63\u001b[0m ):\n\u001b[1;32m     64\u001b[0m     \u001b[39m\"\"\"Evaluate metric(s) by cross-validation and also record fit/score times.\u001b[39;00m\n\u001b[1;32m     65\u001b[0m \n\u001b[1;32m     66\u001b[0m \u001b[39m    Read more in the :ref:`User Guide <multimetric_cross_validation>`.\u001b[39;00m\n\u001b[0;32m   (...)\u001b[0m\n\u001b[1;32m    251\u001b[0m \n\u001b[1;32m    252\u001b[0m \u001b[39m    \"\"\"\u001b[39;00m\n\u001b[0;32m--> 253\u001b[0m     X, y, groups \u001b[39m=\u001b[39m indexable(X, y, groups)\n\u001b[1;32m    255\u001b[0m     cv \u001b[39m=\u001b[39m check_cv(cv, y, classifier\u001b[39m=\u001b[39mis_classifier(estimator))\n\u001b[1;32m    257\u001b[0m     \u001b[39mif\u001b[39;00m callable(scoring):\n",
      "File \u001b[0;32m~/opt/anaconda3/lib/python3.9/site-packages/sklearn/utils/validation.py:378\u001b[0m, in \u001b[0;36mindexable\u001b[0;34m(*iterables)\u001b[0m\n\u001b[1;32m    359\u001b[0m \u001b[39m\"\"\"Make arrays indexable for cross-validation.\u001b[39;00m\n\u001b[1;32m    360\u001b[0m \n\u001b[1;32m    361\u001b[0m \u001b[39mChecks consistent length, passes through None, and ensures that everything\u001b[39;00m\n\u001b[0;32m   (...)\u001b[0m\n\u001b[1;32m    374\u001b[0m \u001b[39m    sparse matrix, or dataframe) or `None`.\u001b[39;00m\n\u001b[1;32m    375\u001b[0m \u001b[39m\"\"\"\u001b[39;00m\n\u001b[1;32m    377\u001b[0m result \u001b[39m=\u001b[39m [_make_indexable(X) \u001b[39mfor\u001b[39;00m X \u001b[39min\u001b[39;00m iterables]\n\u001b[0;32m--> 378\u001b[0m check_consistent_length(\u001b[39m*\u001b[39;49mresult)\n\u001b[1;32m    379\u001b[0m \u001b[39mreturn\u001b[39;00m result\n",
      "File \u001b[0;32m~/opt/anaconda3/lib/python3.9/site-packages/sklearn/utils/validation.py:332\u001b[0m, in \u001b[0;36mcheck_consistent_length\u001b[0;34m(*arrays)\u001b[0m\n\u001b[1;32m    330\u001b[0m uniques \u001b[39m=\u001b[39m np\u001b[39m.\u001b[39munique(lengths)\n\u001b[1;32m    331\u001b[0m \u001b[39mif\u001b[39;00m \u001b[39mlen\u001b[39m(uniques) \u001b[39m>\u001b[39m \u001b[39m1\u001b[39m:\n\u001b[0;32m--> 332\u001b[0m     \u001b[39mraise\u001b[39;00m \u001b[39mValueError\u001b[39;00m(\n\u001b[1;32m    333\u001b[0m         \u001b[39m\"\u001b[39m\u001b[39mFound input variables with inconsistent numbers of samples: \u001b[39m\u001b[39m%r\u001b[39;00m\u001b[39m\"\u001b[39m\n\u001b[1;32m    334\u001b[0m         \u001b[39m%\u001b[39m [\u001b[39mint\u001b[39m(l) \u001b[39mfor\u001b[39;00m l \u001b[39min\u001b[39;00m lengths]\n\u001b[1;32m    335\u001b[0m     )\n",
      "\u001b[0;31mValueError\u001b[0m: Found input variables with inconsistent numbers of samples: [435, 426]"
     ]
    }
   ],
   "source": [
    "### PCA (NEEDS REWORK FOR DEAD + ALIVE CASES)\n",
    "\n",
    "import numpy as np\n",
    "import pandas as pd\n",
    "import matplotlib.pyplot as plt\n",
    "from sklearn.preprocessing import scale \n",
    "from sklearn import model_selection\n",
    "from sklearn.model_selection import RepeatedKFold\n",
    "from sklearn.model_selection import train_test_split\n",
    "from sklearn.decomposition import PCA\n",
    "from sklearn.linear_model import LinearRegression\n",
    "from sklearn.metrics import mean_squared_error\n",
    "\n",
    "\n",
    "def pcaModel(sample_df, meta_df):\n",
    "\n",
    "    ### DEALING WITH MISSING VALUES\n",
    "    # drop any cpg site that has one patient missing it\n",
    "    sample_df = sample_df.dropna(axis=1, how='any')\n",
    "\n",
    "    #scale predictor variables\n",
    "    pca = PCA()\n",
    "    X_reduced = pca.fit_transform(scale(sample_df))\n",
    "\n",
    "    #define cross validation method\n",
    "    cv = RepeatedKFold(n_splits=10, n_repeats=3, random_state=1)\n",
    "\n",
    "    regr = LinearRegression()\n",
    "    mse = []\n",
    "\n",
    "    # Calculate MSE with only the intercept\n",
    "    score = -1 * model_selection.cross_val_score(regr, np.ones((len(X_reduced),1)), meta_df, cv=cv, scoring='neg_mean_squared_error').mean()    \n",
    "    mse.append(score)\n",
    "\n",
    "    # Calculate MSE using cross-validation, adding one component at a time \n",
    "    for i in np.arange(1, 30): # SETS PCA RANGE (ADDS TIME)\n",
    "        score = -1*model_selection.cross_val_score(regr, X_reduced[:,:i], meta_df, cv=cv, scoring='neg_mean_squared_error').mean()\n",
    "        mse.append(score)\n",
    "\n",
    "    plt.plot(mse)\n",
    "    plt.xlabel('Number of Principal Components')\n",
    "    plt.ylabel('value')\n",
    "\n",
    "\n",
    "pcaModel(sample_data, meta_data)"
   ]
  },
  {
   "cell_type": "code",
   "execution_count": 12,
   "metadata": {},
   "outputs": [
    {
     "data": {
      "image/png": "[encoded data removed]",
      "text/plain": [
       "<Figure size 640x480 with 1 Axes>"
      ]
     },
     "metadata": {},
     "output_type": "display_data"
    },
    {
     "name": "stdout",
     "output_type": "stream",
     "text": [
      "Number of PCs to achieve 0.5 explained variance: 15\n",
      "Number of PCs to achieve 0.8 explained variance: 31\n"
     ]
    }
   ],
   "source": [
    "### PCA scree plot\n",
    "\n",
    "import numpy as np\n",
    "import pandas as pd\n",
    "import matplotlib.pyplot as plt\n",
    "from sklearn.decomposition import PCA\n",
    "from sklearn.preprocessing import StandardScaler\n",
    "\n",
    "from sklearn.decomposition import SparsePCA\n",
    "\n",
    "def pcaTest(sample_df, components=25):\n",
    "\n",
    "    ### DEALING WITH MISSING VALUES\n",
    "    # drop any cpg site that has one patient missing it\n",
    "    sample_df = sample_df.dropna(axis=1, how='any')\n",
    "\n",
    "    #creates scaled version of DataFrame\n",
    "    scaled_df = sample_df.copy()\n",
    "    scaled_df = pd.DataFrame(StandardScaler().fit_transform(scaled_df), index=scaled_df.index, columns=scaled_df.columns)\n",
    "\n",
    "    #scale predictor variables\n",
    "    pca = PCA(n_components=components)\n",
    "    pca.fit(scaled_df)\n",
    "\n",
    "    output = pca.transform(scaled_df)\n",
    "\n",
    "    PC_values = np.arange(pca.n_components_) + 1\n",
    "    plt.plot(PC_values, pca.explained_variance_ratio_, 'o-', linewidth=2, color='blue')\n",
    "    plt.title('Scree Plot')\n",
    "    plt.xlabel('Principal Component')\n",
    "    plt.ylabel('Variance Explained')\n",
    "    plt.show()\n",
    "\n",
    "    var = 0\n",
    "    count = 0\n",
    "    for i in pca.explained_variance_ratio_:\n",
    "        var += i \n",
    "        count += 1\n",
    "        if var > 0.5:\n",
    "            break\n",
    "    print(\"Number of PCs to achieve 0.5 explained variance: \" + str(count))\n",
    "\n",
    "    var = 0\n",
    "    count = 0\n",
    "    for i in pca.explained_variance_ratio_:\n",
    "        var += i \n",
    "        count += 1\n",
    "        if var > 0.8:\n",
    "            break\n",
    "    print(\"Number of PCs to achieve 0.8 explained variance: \" + str(count))\n",
    "\n",
    "pcaTest(sample_data, 0.6)"
   ]
  },
  {
   "cell_type": "code",
   "execution_count": 24,
   "metadata": {},
   "outputs": [
    {
     "name": "stdout",
     "output_type": "stream",
     "text": [
      "(400, 17)\n",
      "[[ 0.00000000e+00 -1.84740838e-03  0.00000000e+00 ...  0.00000000e+00\n",
      "   0.00000000e+00  0.00000000e+00]\n",
      " [-4.10265224e-04  0.00000000e+00 -7.42056758e-04 ...  1.79403360e-03\n",
      "   2.07741311e-03  1.66108700e-03]\n",
      " [ 0.00000000e+00  0.00000000e+00  0.00000000e+00 ... -3.42812490e-05\n",
      "   0.00000000e+00  0.00000000e+00]\n",
      " ...\n",
      " [-2.91751657e-04 -3.21199570e-03  0.00000000e+00 ...  0.00000000e+00\n",
      "   0.00000000e+00 -2.63998836e-03]\n",
      " [-1.87199817e-04  3.56266925e-03  0.00000000e+00 ...  0.00000000e+00\n",
      "   5.19127265e-04  0.00000000e+00]\n",
      " [ 0.00000000e+00  1.63036267e-03  6.96481885e-04 ...  0.00000000e+00\n",
      "   0.00000000e+00  1.02204382e-03]]\n"
     ]
    }
   ],
   "source": [
    "import numpy as np\n",
    "import pandas as pd\n",
    "import matplotlib.pyplot as plt\n",
    "from sklearn.preprocessing import StandardScaler\n",
    "\n",
    "from sklearn.decomposition import MiniBatchSparsePCA\n",
    "\n",
    "def applySPCA(sample_df, meta_data, components=25):\n",
    "\n",
    "    meta_data = meta_data\n",
    "\n",
    "    sample_df = sample_df.dropna(axis=1, how='any')\n",
    "    scaled_df = sample_df.copy()\n",
    "    scaled_df = pd.DataFrame(StandardScaler().fit_transform(scaled_df), index=scaled_df.index, columns=scaled_df.columns)\n",
    "\n",
    "    pca = MiniBatchSparsePCA(n_components=components)\n",
    "    pca.fit(scaled_df)\n",
    "\n",
    "    output = pca.transform(scaled_df)\n",
    "    x = pd.DataFrame(output, index=scaled_df.index)\n",
    "\n",
    "    x.index.name = 'id'\n",
    "    meta_data.index.name = 'id'\n",
    "\n",
    "    # merges dfs and formats \n",
    "    full_data = pd.merge(meta_data, x, on = 'id')\n",
    "    full_data.replace(['Dead', 'Alive'],[0, 1], inplace=True)\n",
    "    full_data = full_data[full_data['days_to_death'].notna()]\n",
    "\n",
    "    print(full_data.shape)\n",
    "    print(pca.components_)\n",
    "    return(full_data)\n",
    "\n",
    "spca = applySPCA(sample_data, meta_data, 15)\n"
   ]
  },
  {
   "cell_type": "code",
   "execution_count": 25,
   "metadata": {},
   "outputs": [
    {
     "name": "stderr",
     "output_type": "stream",
     "text": [
      "/Users/zacksiegfried/opt/anaconda3/lib/python3.9/site-packages/lifelines/fitters/coxph_fitter.py:1266: FutureWarning: In a future version, the Index constructor will not infer numeric dtypes when passed object-dtype sequences (matching Series behavior)\n",
      "  self.params_ = pd.Series(params_, index=pd.Index(X.columns, name=\"covariate\"), name=\"coef\")\n",
      "/Users/zacksiegfried/opt/anaconda3/lib/python3.9/site-packages/lifelines/fitters/coxph_fitter.py:1266: FutureWarning: In a future version, the Index constructor will not infer numeric dtypes when passed object-dtype sequences (matching Series behavior)\n",
      "  self.params_ = pd.Series(params_, index=pd.Index(X.columns, name=\"covariate\"), name=\"coef\")\n",
      "/Users/zacksiegfried/opt/anaconda3/lib/python3.9/site-packages/lifelines/fitters/coxph_fitter.py:1266: FutureWarning: In a future version, the Index constructor will not infer numeric dtypes when passed object-dtype sequences (matching Series behavior)\n",
      "  self.params_ = pd.Series(params_, index=pd.Index(X.columns, name=\"covariate\"), name=\"coef\")\n",
      "/Users/zacksiegfried/opt/anaconda3/lib/python3.9/site-packages/lifelines/fitters/coxph_fitter.py:1266: FutureWarning: In a future version, the Index constructor will not infer numeric dtypes when passed object-dtype sequences (matching Series behavior)\n",
      "  self.params_ = pd.Series(params_, index=pd.Index(X.columns, name=\"covariate\"), name=\"coef\")\n",
      "/Users/zacksiegfried/opt/anaconda3/lib/python3.9/site-packages/lifelines/fitters/coxph_fitter.py:1266: FutureWarning: In a future version, the Index constructor will not infer numeric dtypes when passed object-dtype sequences (matching Series behavior)\n",
      "  self.params_ = pd.Series(params_, index=pd.Index(X.columns, name=\"covariate\"), name=\"coef\")\n"
     ]
    },
    {
     "name": "stdout",
     "output_type": "stream",
     "text": [
      "           95% lower-bound  95% upper-bound\n",
      "covariate                                  \n",
      "0                -0.002308         0.003709\n",
      "1                -0.005198        -0.001073\n",
      "2                -0.000886         0.007838\n",
      "3                -0.001495         0.006096\n",
      "4                -0.008174         0.000372\n",
      "5                -0.008411         0.004098\n",
      "6                -0.003342         0.001853\n",
      "7                -0.010013         0.000204\n",
      "8                -0.006650        -0.001093\n",
      "9                -0.007613        -0.000035\n",
      "10               -0.005417        -0.001964\n",
      "11               -0.002625         0.002173\n",
      "12               -0.005722         0.006168\n",
      "13               -0.004739         0.000667\n",
      "14               -0.000004         0.003170\n",
      "0.6886381123364965\n",
      "Proportional hazard assumption looks okay.\n",
      "[]\n",
      "[0.6710963455149501, 0.6905754795663053, 0.672627235213205, 0.6197916666666666, 0.6247086247086248]\n"
     ]
    },
    {
     "name": "stderr",
     "output_type": "stream",
     "text": [
      "/Users/zacksiegfried/opt/anaconda3/lib/python3.9/site-packages/lifelines/fitters/coxph_fitter.py:1266: FutureWarning: In a future version, the Index constructor will not infer numeric dtypes when passed object-dtype sequences (matching Series behavior)\n",
      "  self.params_ = pd.Series(params_, index=pd.Index(X.columns, name=\"covariate\"), name=\"coef\")\n"
     ]
    }
   ],
   "source": [
    "### SURVIVAL ANALYSIS EXECUTION & TESTING\n",
    "\n",
    "from lifelines import CoxPHFitter\n",
    "from lifelines.calibration import survival_probability_calibration\n",
    "from lifelines.utils import k_fold_cross_validation\n",
    "\n",
    "cph = CoxPHFitter()\n",
    "cph.fit(spca, duration_col='days_to_death', event_col='vital_status')\n",
    "\n",
    "print(cph.confidence_intervals_)\n",
    "print(cph.concordance_index_)\n",
    "print(cph.check_assumptions(spca))\n",
    "\n",
    "# Predictions\n",
    "scores = k_fold_cross_validation(cph, spca, 'days_to_death', event_col='vital_status', k=5, scoring_method=\"concordance_index\")\n",
    "print(scores)"
   ]
  }
 ],
 "metadata": {
  "kernelspec": {
   "display_name": "base",
   "language": "python",
   "name": "python3"
  },
  "language_info": {
   "codemirror_mode": {
    "name": "ipython",
    "version": 3
   },
   "file_extension": ".py",
   "mimetype": "text/x-python",
   "name": "python",
   "nbconvert_exporter": "python",
   "pygments_lexer": "ipython3",
   "version": "3.9.16"
  },
  "orig_nbformat": 4
 },
 "nbformat": 4,
 "nbformat_minor": 2
}
