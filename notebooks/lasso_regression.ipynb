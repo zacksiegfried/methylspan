{
 "cells": [
  {
   "cell_type": "code",
   "execution_count": null,
   "metadata": {},
   "outputs": [],
   "source": [
    "### Would need to import adjusted data (replace cases ==\"Dead\" filter) to run this script"
   ]
  },
  {
   "cell_type": "code",
   "execution_count": null,
   "metadata": {},
   "outputs": [],
   "source": [
    "### LASSO\n",
    "\n",
    "from sklearn.model_selection import train_test_split\n",
    "from sklearn.preprocessing import StandardScaler\n",
    "from sklearn.linear_model import Lasso\n",
    "from sklearn.linear_model import LassoCV\n",
    "\n",
    "def lassoModel(sample_df, meta_df):\n",
    "\n",
    "    ### DEALING WITH MISSING VALUES\n",
    "    # drop any cpg site that has one patient missing it\n",
    "    sample_df = sample_df.dropna(axis=1, how='any')\n",
    "\n",
    "    # splitting training and test datasets\n",
    "    X_train, X_test, y_train, y_test = train_test_split(sample_df, meta_df, test_size=0.3, random_state=10)\n",
    "\n",
    "    # standardizing\n",
    "    scaler = StandardScaler().fit(X_train)\n",
    "    X_train = scaler.transform(X_train)\n",
    "    X_test = scaler.transform(X_test)\n",
    "\n",
    "\n",
    "    # modeling choosing best alpha\n",
    "    model = LassoCV(cv=5, random_state=0, max_iter=10000)\n",
    "    # Fit model\n",
    "    model.fit(X_train, y_train)\n",
    "    print(model.alpha_)\n",
    "    \n",
    "    lasso_best = Lasso(alpha=model.alpha_)\n",
    "    lasso_best.fit(X_train, y_train)\n",
    "\n",
    "    print('R squared training set', round(lasso_best.score(X_train, y_train)*100, 2))\n",
    "    print('R squared test set', round(lasso_best.score(X_test, y_test)*100, 2))\n"
   ]
  }
 ],
 "metadata": {
  "language_info": {
   "name": "python"
  },
  "orig_nbformat": 4
 },
 "nbformat": 4,
 "nbformat_minor": 2
}
